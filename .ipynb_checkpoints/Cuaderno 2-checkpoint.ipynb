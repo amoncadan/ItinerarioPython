{
 "cells": [
  {
   "cell_type": "markdown",
   "id": "ee36c8f3",
   "metadata": {},
   "source": [
    "# Combinación de librerías en Jupyter\n",
    "\n",
    "En Python, es muy usual combinar varias librerías especializadas para analizar datos de negocios desde la perspectiva de la analítica de datos. Acá mostramos un ejemplo sencillo."
   ]
  },
  {
   "cell_type": "code",
   "execution_count": 1,
   "id": "a6ebc5c1",
   "metadata": {},
   "outputs": [],
   "source": [
    "import pandas as pd # Librería para abrir un archivo\n",
    "import seaborn as sns # Librería para resumir datos con gráficos"
   ]
  },
  {
   "cell_type": "markdown",
   "id": "88aa46bb",
   "metadata": {},
   "source": [
    "Ahora vamos a abrir los mismos datos que vimos en \"Mi Primer Jupyter\" y con la opción datos.head() podemos ver las primeras cuatro filas de tales datos."
   ]
  },
  {
   "cell_type": "code",
   "execution_count": 2,
   "id": "8f45b418",
   "metadata": {},
   "outputs": [
    {
     "data": {
      "text/html": [
       "<div>\n",
       "<style scoped>\n",
       "    .dataframe tbody tr th:only-of-type {\n",
       "        vertical-align: middle;\n",
       "    }\n",
       "\n",
       "    .dataframe tbody tr th {\n",
       "        vertical-align: top;\n",
       "    }\n",
       "\n",
       "    .dataframe thead th {\n",
       "        text-align: right;\n",
       "    }\n",
       "</style>\n",
       "<table border=\"1\" class=\"dataframe\">\n",
       "  <thead>\n",
       "    <tr style=\"text-align: right;\">\n",
       "      <th></th>\n",
       "      <th>Moment</th>\n",
       "      <th>number</th>\n",
       "      <th>web</th>\n",
       "      <th>Name of Provider</th>\n",
       "      <th>Number of Comments</th>\n",
       "      <th>Expected Delivery Time</th>\n",
       "      <th>Minimum Charge Ordering</th>\n",
       "      <th>Cost Delivery</th>\n",
       "      <th>Latitude</th>\n",
       "      <th>Longitude</th>\n",
       "      <th>Typical Traffic Afternoon</th>\n",
       "      <th>Typical Traffic Noon</th>\n",
       "      <th>Typical Traffic Morning</th>\n",
       "      <th>DailyTraffic</th>\n",
       "      <th>ClientLatitude</th>\n",
       "      <th>ClientLongitude</th>\n",
       "      <th>Distance(mts)</th>\n",
       "      <th>Time(sec)</th>\n",
       "      <th>Time(min)</th>\n",
       "    </tr>\n",
       "  </thead>\n",
       "  <tbody>\n",
       "    <tr>\n",
       "      <th>0</th>\n",
       "      <td>Morning</td>\n",
       "      <td>1</td>\n",
       "      <td>https://domicilios.com/bogota/kfc-cc-atlantis-...</td>\n",
       "      <td>KFC</td>\n",
       "      <td>5329</td>\n",
       "      <td>45.0</td>\n",
       "      <td>9900.0</td>\n",
       "      <td>3500.0</td>\n",
       "      <td>4.66597</td>\n",
       "      <td>-74.05558</td>\n",
       "      <td>Red</td>\n",
       "      <td>Orange</td>\n",
       "      <td>Green</td>\n",
       "      <td>ROG</td>\n",
       "      <td>4.665798</td>\n",
       "      <td>-74.040855</td>\n",
       "      <td>2500</td>\n",
       "      <td>660</td>\n",
       "      <td>11</td>\n",
       "    </tr>\n",
       "    <tr>\n",
       "      <th>1</th>\n",
       "      <td>Morning</td>\n",
       "      <td>1</td>\n",
       "      <td>https://domicilios.com/bogota/kfc-cc-atlantis-...</td>\n",
       "      <td>KFC</td>\n",
       "      <td>5329</td>\n",
       "      <td>45.0</td>\n",
       "      <td>9900.0</td>\n",
       "      <td>3500.0</td>\n",
       "      <td>4.66597</td>\n",
       "      <td>-74.05558</td>\n",
       "      <td>Red</td>\n",
       "      <td>Orange</td>\n",
       "      <td>Green</td>\n",
       "      <td>ROG</td>\n",
       "      <td>4.666159</td>\n",
       "      <td>-74.038331</td>\n",
       "      <td>3300</td>\n",
       "      <td>720</td>\n",
       "      <td>12</td>\n",
       "    </tr>\n",
       "    <tr>\n",
       "      <th>2</th>\n",
       "      <td>Morning</td>\n",
       "      <td>1</td>\n",
       "      <td>https://domicilios.com/bogota/kfc-cc-atlantis-...</td>\n",
       "      <td>KFC</td>\n",
       "      <td>5329</td>\n",
       "      <td>45.0</td>\n",
       "      <td>9900.0</td>\n",
       "      <td>3500.0</td>\n",
       "      <td>4.66597</td>\n",
       "      <td>-74.05558</td>\n",
       "      <td>Red</td>\n",
       "      <td>Orange</td>\n",
       "      <td>Green</td>\n",
       "      <td>ROG</td>\n",
       "      <td>4.670228</td>\n",
       "      <td>-74.026783</td>\n",
       "      <td>9100</td>\n",
       "      <td>1740</td>\n",
       "      <td>29</td>\n",
       "    </tr>\n",
       "    <tr>\n",
       "      <th>3</th>\n",
       "      <td>Morning</td>\n",
       "      <td>1</td>\n",
       "      <td>https://domicilios.com/bogota/kfc-cc-atlantis-...</td>\n",
       "      <td>KFC</td>\n",
       "      <td>5329</td>\n",
       "      <td>45.0</td>\n",
       "      <td>9900.0</td>\n",
       "      <td>3500.0</td>\n",
       "      <td>4.66597</td>\n",
       "      <td>-74.05558</td>\n",
       "      <td>Red</td>\n",
       "      <td>Orange</td>\n",
       "      <td>Green</td>\n",
       "      <td>ROG</td>\n",
       "      <td>4.662140</td>\n",
       "      <td>-74.008008</td>\n",
       "      <td>9700</td>\n",
       "      <td>1740</td>\n",
       "      <td>29</td>\n",
       "    </tr>\n",
       "    <tr>\n",
       "      <th>4</th>\n",
       "      <td>Morning</td>\n",
       "      <td>1</td>\n",
       "      <td>https://domicilios.com/bogota/kfc-cc-atlantis-...</td>\n",
       "      <td>KFC</td>\n",
       "      <td>5329</td>\n",
       "      <td>45.0</td>\n",
       "      <td>9900.0</td>\n",
       "      <td>3500.0</td>\n",
       "      <td>4.66597</td>\n",
       "      <td>-74.05558</td>\n",
       "      <td>Red</td>\n",
       "      <td>Orange</td>\n",
       "      <td>Green</td>\n",
       "      <td>ROG</td>\n",
       "      <td>4.669905</td>\n",
       "      <td>-74.104917</td>\n",
       "      <td>8800</td>\n",
       "      <td>1320</td>\n",
       "      <td>22</td>\n",
       "    </tr>\n",
       "  </tbody>\n",
       "</table>\n",
       "</div>"
      ],
      "text/plain": [
       "    Moment  number                                                web  \\\n",
       "0  Morning       1  https://domicilios.com/bogota/kfc-cc-atlantis-...   \n",
       "1  Morning       1  https://domicilios.com/bogota/kfc-cc-atlantis-...   \n",
       "2  Morning       1  https://domicilios.com/bogota/kfc-cc-atlantis-...   \n",
       "3  Morning       1  https://domicilios.com/bogota/kfc-cc-atlantis-...   \n",
       "4  Morning       1  https://domicilios.com/bogota/kfc-cc-atlantis-...   \n",
       "\n",
       "  Name of Provider Number of Comments  Expected Delivery Time  \\\n",
       "0             KFC                5329                    45.0   \n",
       "1             KFC                5329                    45.0   \n",
       "2             KFC                5329                    45.0   \n",
       "3             KFC                5329                    45.0   \n",
       "4             KFC                5329                    45.0   \n",
       "\n",
       "   Minimum Charge Ordering  Cost Delivery  Latitude  Longitude  \\\n",
       "0                   9900.0         3500.0   4.66597  -74.05558   \n",
       "1                   9900.0         3500.0   4.66597  -74.05558   \n",
       "2                   9900.0         3500.0   4.66597  -74.05558   \n",
       "3                   9900.0         3500.0   4.66597  -74.05558   \n",
       "4                   9900.0         3500.0   4.66597  -74.05558   \n",
       "\n",
       "  Typical Traffic Afternoon Typical Traffic Noon Typical Traffic Morning  \\\n",
       "0                       Red               Orange                   Green   \n",
       "1                       Red               Orange                   Green   \n",
       "2                       Red               Orange                   Green   \n",
       "3                       Red               Orange                   Green   \n",
       "4                       Red               Orange                   Green   \n",
       "\n",
       "  DailyTraffic  ClientLatitude  ClientLongitude  Distance(mts)  Time(sec)  \\\n",
       "0          ROG        4.665798       -74.040855           2500        660   \n",
       "1          ROG        4.666159       -74.038331           3300        720   \n",
       "2          ROG        4.670228       -74.026783           9100       1740   \n",
       "3          ROG        4.662140       -74.008008           9700       1740   \n",
       "4          ROG        4.669905       -74.104917           8800       1320   \n",
       "\n",
       "   Time(min)  \n",
       "0         11  \n",
       "1         12  \n",
       "2         29  \n",
       "3         29  \n",
       "4         22  "
      ]
     },
     "execution_count": 2,
     "metadata": {},
     "output_type": "execute_result"
    }
   ],
   "source": [
    "datos = pd.read_csv(\"newdata.csv\")\n",
    "datos.head()"
   ]
  },
  {
   "cell_type": "markdown",
   "id": "d1f36361",
   "metadata": {},
   "source": [
    "Dos funciones sencillas pero importantes son:\n",
    "\n",
    "* len(datos): Nos devuelve el número de filas de una base de datos.\n",
    "* len(datos.columns): Nos devuelve el número de columnas de una base de datos."
   ]
  },
  {
   "cell_type": "code",
   "execution_count": 3,
   "id": "dae1a40e",
   "metadata": {},
   "outputs": [
    {
     "data": {
      "text/plain": [
       "19"
      ]
     },
     "execution_count": 3,
     "metadata": {},
     "output_type": "execute_result"
    }
   ],
   "source": [
    "len(datos.columns)"
   ]
  },
  {
   "cell_type": "code",
   "execution_count": 4,
   "id": "5714b13a",
   "metadata": {},
   "outputs": [
    {
     "data": {
      "text/plain": [
       "19934"
      ]
     },
     "execution_count": 4,
     "metadata": {},
     "output_type": "execute_result"
    }
   ],
   "source": [
    "len(datos)"
   ]
  },
  {
   "cell_type": "markdown",
   "id": "06380221",
   "metadata": {},
   "source": [
    "## Resumir datos\n",
    "En la analítica de datos, una de las tareas más comunes es resumir datos. Por ejemplo, de la base de datos anterior podríamos solicitar un resumen estadístico sobre el costo de ordenar comida a domicilio."
   ]
  },
  {
   "cell_type": "code",
   "execution_count": 6,
   "id": "8277d618",
   "metadata": {},
   "outputs": [
    {
     "data": {
      "text/plain": [
       "count    14271.000000\n",
       "mean      2614.453928\n",
       "std       1577.961057\n",
       "min          0.000000\n",
       "25%       2000.000000\n",
       "50%       2800.000000\n",
       "75%       3500.000000\n",
       "max      20000.000000\n",
       "Name: Cost Delivery, dtype: float64"
      ]
     },
     "execution_count": 6,
     "metadata": {},
     "output_type": "execute_result"
    }
   ],
   "source": [
    "datos['Cost Delivery'].describe()"
   ]
  },
  {
   "cell_type": "markdown",
   "id": "bb702aa8",
   "metadata": {},
   "source": [
    "Observe que dentro de los datos hay una columna llamada Cost Delivery. Entonces cuando se escribe datos['Cost Delivery'] se le indica a Python que se enfoque únicamente en dicha columna. Luego, inmediatamente y sin espacios se ha escrito describe()\n",
    "\n",
    "Entonces, toda la sintaxis que hemos escrito arriba significa algo así como \"resuma la variable Cost Delivery que se encuentra en la base de datos llamada datos."
   ]
  },
  {
   "cell_type": "code",
   "execution_count": 7,
   "id": "38d213bf",
   "metadata": {},
   "outputs": [
    {
     "data": {
      "text/plain": [
       "<AxesSubplot:>"
      ]
     },
     "execution_count": 7,
     "metadata": {},
     "output_type": "execute_result"
    },
    {
     "data": {
      "image/png": "[encoded data removed]",
      "text/plain": [
       "<Figure size 432x288 with 1 Axes>"
      ]
     },
     "metadata": {
      "needs_background": "light"
     },
     "output_type": "display_data"
    }
   ],
   "source": [
    "datos['Cost Delivery'].hist()"
   ]
  },
  {
   "cell_type": "code",
   "execution_count": null,
   "id": "d77aa9d2",
   "metadata": {},
   "outputs": [],
   "source": [
    "sns.pairplot(datos, hue=\"Moment\")"
   ]
  },
  {
   "cell_type": "code",
   "execution_count": null,
   "id": "cacad13e",
   "metadata": {},
   "outputs": [],
   "source": [
    "\n",
    "import seaborn as sns\n",
    "sns.set_theme(style=\"ticks\")\n",
    "\n",
    "df = sns.load_dataset(\"penguins\")\n",
    "df.head()"
   ]
  },
  {
   "cell_type": "code",
   "execution_count": null,
   "id": "536d20fd",
   "metadata": {},
   "outputs": [],
   "source": [
    "sns.pairplot(df, hue=\"species\")"
   ]
  }
 ],
 "metadata": {
  "kernelspec": {
   "display_name": "Python 3 (ipykernel)",
   "language": "python",
   "name": "python3"
  },
  "language_info": {
   "codemirror_mode": {
    "name": "ipython",
    "version": 3
   },
   "file_extension": ".py",
   "mimetype": "text/x-python",
   "name": "python",
   "nbconvert_exporter": "python",
   "pygments_lexer": "ipython3",
   "version": "3.9.7"
  }
 },
 "nbformat": 4,
 "nbformat_minor": 5
}
