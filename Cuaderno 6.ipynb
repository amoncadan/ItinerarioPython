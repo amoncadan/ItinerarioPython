{
 "cells": [
  {
   "cell_type": "code",
   "execution_count": 1,
   "id": "61cff12d",
   "metadata": {},
   "outputs": [],
   "source": [
    "import json\n",
    "\n",
    "with open(\"Empleados.json\", 'r') as j:\n",
    "     data = json.load(j)"
   ]
  },
  {
   "cell_type": "code",
   "execution_count": 2,
   "id": "4f5d6bbc",
   "metadata": {},
   "outputs": [
    {
     "data": {
      "text/plain": [
       "[{'id': '001',\n",
       "  'Nombre': 'Alvaro',\n",
       "  'Apellido': 'Moncada',\n",
       "  'Cargo': 'Coordinador',\n",
       "  'Area': 'Inteligencia Artificial'},\n",
       " {'id': 'A002',\n",
       "  'Nombre': 'Nicolas',\n",
       "  'Apellido': 'Gomez',\n",
       "  'Cargo': 'Docente',\n",
       "  'Area': 'Calculo'},\n",
       " {'id': 'A003',\n",
       "  'Nombre': 'Juan Carlos',\n",
       "  'Apellido': 'Correa',\n",
       "  'Cargo': 'Docente',\n",
       "  'Area': 'Analitica de Datos'}]"
      ]
     },
     "execution_count": 2,
     "metadata": {},
     "output_type": "execute_result"
    }
   ],
   "source": [
    "data"
   ]
  },
  {
   "cell_type": "code",
   "execution_count": 3,
   "id": "b067f508",
   "metadata": {},
   "outputs": [],
   "source": [
    "import pandas as pd"
   ]
  },
  {
   "cell_type": "code",
   "execution_count": 4,
   "id": "80397f2a",
   "metadata": {},
   "outputs": [
    {
     "data": {
      "text/html": [
       "<div>\n",
       "<style scoped>\n",
       "    .dataframe tbody tr th:only-of-type {\n",
       "        vertical-align: middle;\n",
       "    }\n",
       "\n",
       "    .dataframe tbody tr th {\n",
       "        vertical-align: top;\n",
       "    }\n",
       "\n",
       "    .dataframe thead th {\n",
       "        text-align: right;\n",
       "    }\n",
       "</style>\n",
       "<table border=\"1\" class=\"dataframe\">\n",
       "  <thead>\n",
       "    <tr style=\"text-align: right;\">\n",
       "      <th></th>\n",
       "      <th>id</th>\n",
       "      <th>Nombre</th>\n",
       "      <th>Apellido</th>\n",
       "      <th>Cargo</th>\n",
       "      <th>Area</th>\n",
       "    </tr>\n",
       "  </thead>\n",
       "  <tbody>\n",
       "    <tr>\n",
       "      <th>0</th>\n",
       "      <td>001</td>\n",
       "      <td>Alvaro</td>\n",
       "      <td>Moncada</td>\n",
       "      <td>Coordinador</td>\n",
       "      <td>Inteligencia Artificial</td>\n",
       "    </tr>\n",
       "    <tr>\n",
       "      <th>1</th>\n",
       "      <td>A002</td>\n",
       "      <td>Nicolas</td>\n",
       "      <td>Gomez</td>\n",
       "      <td>Docente</td>\n",
       "      <td>Calculo</td>\n",
       "    </tr>\n",
       "    <tr>\n",
       "      <th>2</th>\n",
       "      <td>A003</td>\n",
       "      <td>Juan Carlos</td>\n",
       "      <td>Correa</td>\n",
       "      <td>Docente</td>\n",
       "      <td>Analitica de Datos</td>\n",
       "    </tr>\n",
       "  </tbody>\n",
       "</table>\n",
       "</div>"
      ],
      "text/plain": [
       "     id       Nombre Apellido        Cargo                     Area\n",
       "0   001       Alvaro  Moncada  Coordinador  Inteligencia Artificial\n",
       "1  A002      Nicolas    Gomez      Docente                  Calculo\n",
       "2  A003  Juan Carlos   Correa      Docente       Analitica de Datos"
      ]
     },
     "execution_count": 4,
     "metadata": {},
     "output_type": "execute_result"
    }
   ],
   "source": [
    "df = pd.read_json('Empleados.json')\n",
    "df"
   ]
  }
 ],
 "metadata": {
  "kernelspec": {
   "display_name": "Python 3 (ipykernel)",
   "language": "python",
   "name": "python3"
  },
  "language_info": {
   "codemirror_mode": {
    "name": "ipython",
    "version": 3
   },
   "file_extension": ".py",
   "mimetype": "text/x-python",
   "name": "python",
   "nbconvert_exporter": "python",
   "pygments_lexer": "ipython3",
   "version": "3.9.7"
  }
 },
 "nbformat": 4,
 "nbformat_minor": 5
}
