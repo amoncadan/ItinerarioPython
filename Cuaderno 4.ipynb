{
 "cells": [
  {
   "cell_type": "markdown",
   "id": "d602c7d8",
   "metadata": {},
   "source": [
    "# El Cuarteto de Anscombe\n",
    "\n",
    "El cuarteto de Anscombe (cuyo nombre se debe a Francis Anscombe) se refiere a cuatro tablas de datos. Estas cuatro tablas comparten literalmente propiedades estadísticas idénticas si se les mira con un resumen estadístico en forma de tabla, pero manifiestan comportamientos estadísticos totalmente diferentes si se les mira con un gráfico.\n",
    "\n",
    "Cada tabla de datos tiene dos variables (x, y) y cada variable tiene once observaciones. El cuarteto es una demostración de la importancia de mirar gráficamente un conjunto de datos antes de analizarlos.\n",
    "\n",
    "Vamos a mirar los datos y luego vamos a resumirlos a través de tablas y de gráficos para aprender nuestra lección descrita en el capítulo 4 de nuestro libro."
   ]
  },
  {
   "cell_type": "code",
   "execution_count": 1,
   "id": "03eacc73",
   "metadata": {},
   "outputs": [],
   "source": [
    "import pandas as pd"
   ]
  },
  {
   "cell_type": "raw",
   "id": "b24d1e6f",
   "metadata": {},
   "source": [
    "Anscombe = pd"
   ]
  }
 ],
 "metadata": {
  "kernelspec": {
   "display_name": "Python 3 (ipykernel)",
   "language": "python",
   "name": "python3"
  },
  "language_info": {
   "codemirror_mode": {
    "name": "ipython",
    "version": 3
   },
   "file_extension": ".py",
   "mimetype": "text/x-python",
   "name": "python",
   "nbconvert_exporter": "python",
   "pygments_lexer": "ipython3",
   "version": "3.9.7"
  }
 },
 "nbformat": 4,
 "nbformat_minor": 5
}
